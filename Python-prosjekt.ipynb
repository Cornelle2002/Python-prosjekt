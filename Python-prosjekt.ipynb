{
 "cells": [
  {
   "cell_type": "markdown",
   "metadata": {},
   "source": [
    "<h1> Python-prosjekt"
   ]
  },
  {
   "cell_type": "markdown",
   "metadata": {},
   "source": [
    "a)"
   ]
  },
  {
   "cell_type": "code",
   "execution_count": 11,
   "metadata": {},
   "outputs": [],
   "source": [
    "import numpy as np\n",
    "\n",
    "def lesinput():\n",
    " \n",
    "    fid = open(\"input.txt\", \"r\")\n",
    " \n",
    "    # Leser totalt antall punkt\n",
    "    npunkt = int(fid.readline())       # 'fid.readline()' leser en linje, 'int(...)' gjør at linjen tolkes som et heltall\n",
    " \n",
    "    # LESER INN XY-KOORDINATER TIL KNUTEPUNKTENE\n",
    "    # Nodenummer tilsvarer radnummer i \"Node-variabel\"\n",
    "    # x-koordinat lagres i kolonne 1, y-koordinat i kolonne 2\n",
    "    # Grensebetingelse lagres i kolonne 3; 1 = fast innspent og 0 = fri rotasjon\n",
    "    punkt = np.loadtxt(fid, dtype = int, max_rows = npunkt)     # 'max_rows = npunkt' sorger for at vi bare leser\n",
    "                                                                # de 'npunkt' neste linjene i tekstfilen\n",
    " \n",
    "    # Leser antall elementer\n",
    "    nelem = int(fid.readline())\n",
    " \n",
    "    # Leser konnektivitet: Sammenheng mellom elementender og knutepunktnummer samt EI for elementene\n",
    "    # Elementnummer tilsvarer radnummer i \"elem\"-variabel\n",
    "    # Knutepunktnummer for lokal ende 1 lagres i kolonne 1\n",
    "    # Knutepunktnummer for lokal ende 2 lagres i kolonne 2\n",
    "    # Det anbefales at knutepunktnummerering starter på 0, slik at det samsvarerer med listeindeksering i Python\n",
    "    # E-modul for materiale lagres i kolonne 3\n",
    "    # Tverrsnittstype lagres i kolonne 4; I-profil = 1 og rørprofil = 2\n",
    "    elem = np.loadtxt(fid, dtype = int, max_rows = nelem)\n",
    " \n",
    "    # Leser antall laster som virker på rammen\n",
    "    nlast = int(fid.readline())\n",
    " \n",
    "    # Leser lastdata\n",
    "    # Bestem selv verdiene som er nødvendig å lese inn, samt hva verdiene som leses inn skal representere\n",
    "    last = np.loadtxt(fid, dtype = float, max_rows = nlast)     # <-- Forslag til innlesing av lastdata\n",
    " \n",
    "    # Lukker input-filen\n",
    "    fid.close()\n",
    "\n",
    "    return npunkt, punkt, nelem, elem, nlast, last\n",
    "\n"
   ]
  }
 ],
 "metadata": {
  "kernelspec": {
   "display_name": "base",
   "language": "python",
   "name": "python3"
  },
  "language_info": {
   "codemirror_mode": {
    "name": "ipython",
    "version": 3
   },
   "file_extension": ".py",
   "mimetype": "text/x-python",
   "name": "python",
   "nbconvert_exporter": "python",
   "pygments_lexer": "ipython3",
   "version": "3.9.12"
  }
 },
 "nbformat": 4,
 "nbformat_minor": 2
}
